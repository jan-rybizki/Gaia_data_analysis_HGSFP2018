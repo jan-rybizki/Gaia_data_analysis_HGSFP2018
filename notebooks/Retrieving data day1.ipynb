{
 "cells": [
  {
   "cell_type": "markdown",
   "metadata": {},
   "source": [
    "This is the script for retrieving the data needed for day 1 of the HGSFP Gaia lecture"
   ]
  },
  {
   "cell_type": "code",
   "execution_count": 1,
   "metadata": {},
   "outputs": [
    {
     "name": "stdout",
     "output_type": "stream",
     "text": [
      "Populating the interactive namespace from numpy and matplotlib\n"
     ]
    },
    {
     "name": "stderr",
     "output_type": "stream",
     "text": [
      "/home/rybizki/anaconda3/lib/python3.6/importlib/_bootstrap.py:219: RuntimeWarning: numpy.dtype size changed, may indicate binary incompatibility. Expected 96, got 88\n",
      "  return f(*args, **kwds)\n",
      "/home/rybizki/anaconda3/lib/python3.6/importlib/_bootstrap.py:219: RuntimeWarning: numpy.dtype size changed, may indicate binary incompatibility. Expected 96, got 88\n",
      "  return f(*args, **kwds)\n"
     ]
    }
   ],
   "source": [
    "%pylab inline\n",
    "import gdr2_completeness.tap_queries as tap\n",
    "from astropy.io import fits\n",
    "from ezpadova import parsec\n",
    "import pylab as plt\n",
    "import math,numpy,copy\n",
    "from time import sleep"
   ]
  },
  {
   "cell_type": "code",
   "execution_count": 2,
   "metadata": {},
   "outputs": [
    {
     "name": "stdout",
     "output_type": "stream",
     "text": [
      "Healpix level, gaia_factor, #healpixels\n",
      "0 576460752303423488 12\n",
      "folder did not exist before, is created now\n",
      "number of attempt: 1\n",
      "number of files in folder: 0\n",
      "number of hpx chunks: 12\n",
      "0 added to the job list\n",
      "1 added to the job list\n",
      "2 added to the job list\n",
      "3 added to the job list\n",
      "4 added to the job list\n",
      "5 added to the job list\n",
      "6 added to the job list\n",
      "7 added to the job list\n",
      "8 added to the job list\n",
      "9 added to the job list\n",
      "10 added to the job list\n",
      "11 added to the job list\n",
      "total ADQL queries to download: 12\n"
     ]
    },
    {
     "name": "stderr",
     "output_type": "stream",
     "text": [
      "WARNING: W35: None:6:2: W35: 'value' attribute required for INFO elements [astropy.io.votable.tree]\n",
      "WARNING: W27: None:12:2: W27: COOSYS deprecated in VOTable 1.2 [astropy.io.votable.tree]\n",
      "WARNING: W06: None:30:3: W06: Invalid UCD 'meta.id;meta.version': Primary word 'meta.version' is not valid as a secondary word [astropy.io.votable.tree]\n",
      "WARNING: W06: None:48:3: W06: Invalid UCD 'arith.ratio': Secondary word 'arith.ratio' is not valid as a primary word [astropy.io.votable.tree]\n",
      "WARNING: W50: None:156:3: W50: Invalid unit string 'e-/s' [astropy.io.votable.tree]\n",
      "WARNING: W50: None:159:3: W50: Invalid unit string 'e-/s' [astropy.io.votable.tree]\n",
      "WARNING: W06: None:162:3: W06: Invalid UCD 'arith.ratio': Secondary word 'arith.ratio' is not valid as a primary word [astropy.io.votable.tree]\n",
      "WARNING: W50: None:174:3: W50: Invalid unit string 'e-/s' [astropy.io.votable.tree]\n",
      "WARNING: W50: None:177:3: W50: Invalid unit string 'e-/s' [astropy.io.votable.tree]\n",
      "WARNING: W06: None:180:3: W06: Invalid UCD 'arith.ratio': Secondary word 'arith.ratio' is not valid as a primary word [astropy.io.votable.tree]\n",
      "WARNING: W50: None:192:3: W50: Invalid unit string 'e-/s' [astropy.io.votable.tree]\n",
      "WARNING: W50: None:195:3: W50: Invalid unit string 'e-/s' [astropy.io.votable.tree]\n",
      "WARNING: W06: None:198:3: W06: Invalid UCD 'arith.ratio': Secondary word 'arith.ratio' is not valid as a primary word [astropy.io.votable.tree]\n",
      "WARNING: W06: None:213:3: W06: Invalid UCD 'phot.color': Unknown word 'phot.color' [astropy.io.votable.tree]\n",
      "WARNING: W50: None:234:3: W50: Invalid unit string '[cm/s2]' [astropy.io.votable.tree]\n",
      "WARNING: W49: None:320:1456: W49: Empty cell illegal for integer fields. [astropy.io.votable.converters]\n",
      "WARNING: W49: None:321:1297: W49: Empty cell illegal for integer fields. [astropy.io.votable.converters]\n",
      "WARNING: W49: None:321:1387: W49: Empty cell illegal for integer fields. [astropy.io.votable.converters]\n",
      "WARNING: W49: None:322:1304: W49: Empty cell illegal for integer fields. [astropy.io.votable.converters]\n",
      "WARNING: W49: None:322:1394: W49: Empty cell illegal for integer fields. [astropy.io.votable.converters]\n",
      "WARNING: W49: None:325:1459: W49: Empty cell illegal for integer fields. [astropy.io.votable.converters]\n",
      "WARNING: W49: None:328:1262: W49: Empty cell illegal for integer fields. [astropy.io.votable.converters]\n",
      "WARNING: W49: None:328:1352: W49: Empty cell illegal for integer fields. [astropy.io.votable.converters]\n",
      "WARNING: W49: None:329:1303: W49: Empty cell illegal for integer fields. [astropy.io.votable.converters]\n",
      "WARNING: W49: None:329:1393: W49: Empty cell illegal for integer fields. (suppressing further warnings of this type...) [astropy.io.votable.converters]\n",
      "WARNING: AstropyDeprecationWarning: Using the table property is deprecated. Please use se to_table() instead. [pyvo.dal.query]\n"
     ]
    },
    {
     "name": "stdout",
     "output_type": "stream",
     "text": [
      "1 / 12 done\n"
     ]
    },
    {
     "name": "stderr",
     "output_type": "stream",
     "text": [
      "WARNING: W49: None:320:1481: W49: Empty cell illegal for integer fields. [astropy.io.votable.converters]\n",
      "WARNING: W49: None:321:1453: W49: Empty cell illegal for integer fields. [astropy.io.votable.converters]\n",
      "WARNING: W49: None:322:1447: W49: Empty cell illegal for integer fields. [astropy.io.votable.converters]\n",
      "WARNING: W49: None:323:1298: W49: Empty cell illegal for integer fields. [astropy.io.votable.converters]\n",
      "WARNING: W49: None:323:1388: W49: Empty cell illegal for integer fields. [astropy.io.votable.converters]\n",
      "WARNING: W49: None:324:1301: W49: Empty cell illegal for integer fields. [astropy.io.votable.converters]\n",
      "WARNING: W49: None:324:1391: W49: Empty cell illegal for integer fields. [astropy.io.votable.converters]\n",
      "WARNING: W49: None:325:1456: W49: Empty cell illegal for integer fields. [astropy.io.votable.converters]\n",
      "WARNING: W49: None:326:1288: W49: Empty cell illegal for integer fields. [astropy.io.votable.converters]\n",
      "WARNING: W49: None:326:1378: W49: Empty cell illegal for integer fields. (suppressing further warnings of this type...) [astropy.io.votable.converters]\n",
      "WARNING: W49: None:320:1441: W49: Empty cell illegal for integer fields. [astropy.io.votable.converters]\n",
      "WARNING: W49: None:321:1306: W49: Empty cell illegal for integer fields. [astropy.io.votable.converters]\n",
      "WARNING: W49: None:321:1396: W49: Empty cell illegal for integer fields. [astropy.io.votable.converters]\n",
      "WARNING: W49: None:322:1457: W49: Empty cell illegal for integer fields. [astropy.io.votable.converters]\n",
      "WARNING: W49: None:323:1448: W49: Empty cell illegal for integer fields. [astropy.io.votable.converters]\n",
      "WARNING: W49: None:326:1454: W49: Empty cell illegal for integer fields. [astropy.io.votable.converters]\n",
      "WARNING: W49: None:328:1458: W49: Empty cell illegal for integer fields. [astropy.io.votable.converters]\n",
      "WARNING: W49: None:331:1449: W49: Empty cell illegal for integer fields. [astropy.io.votable.converters]\n",
      "WARNING: W49: None:332:1299: W49: Empty cell illegal for integer fields. [astropy.io.votable.converters]\n",
      "WARNING: W49: None:332:1389: W49: Empty cell illegal for integer fields. (suppressing further warnings of this type...) [astropy.io.votable.converters]\n",
      "WARNING: W49: None:320:1440: W49: Empty cell illegal for integer fields. [astropy.io.votable.converters]\n",
      "WARNING: W49: None:321:1281: W49: Empty cell illegal for integer fields. [astropy.io.votable.converters]\n",
      "WARNING: W49: None:321:1371: W49: Empty cell illegal for integer fields. [astropy.io.votable.converters]\n",
      "WARNING: W49: None:322:1453: W49: Empty cell illegal for integer fields. [astropy.io.votable.converters]\n",
      "WARNING: W49: None:324:1422: W49: Empty cell illegal for integer fields. [astropy.io.votable.converters]\n",
      "WARNING: W49: None:325:1157: W49: Empty cell illegal for integer fields. [astropy.io.votable.converters]\n",
      "WARNING: W49: None:325:1247: W49: Empty cell illegal for integer fields. [astropy.io.votable.converters]\n",
      "WARNING: W49: None:327:1291: W49: Empty cell illegal for integer fields. [astropy.io.votable.converters]\n",
      "WARNING: W49: None:327:1381: W49: Empty cell illegal for integer fields. [astropy.io.votable.converters]\n",
      "WARNING: W49: None:329:1418: W49: Empty cell illegal for integer fields. (suppressing further warnings of this type...) [astropy.io.votable.converters]\n",
      "WARNING: W49: None:320:1466: W49: Empty cell illegal for integer fields. [astropy.io.votable.converters]\n",
      "WARNING: W49: None:321:1307: W49: Empty cell illegal for integer fields. [astropy.io.votable.converters]\n",
      "WARNING: W49: None:321:1397: W49: Empty cell illegal for integer fields. [astropy.io.votable.converters]\n",
      "WARNING: W49: None:323:1301: W49: Empty cell illegal for integer fields. [astropy.io.votable.converters]\n",
      "WARNING: W49: None:323:1391: W49: Empty cell illegal for integer fields. [astropy.io.votable.converters]\n",
      "WARNING: W49: None:324:1305: W49: Empty cell illegal for integer fields. [astropy.io.votable.converters]\n",
      "WARNING: W49: None:324:1395: W49: Empty cell illegal for integer fields. [astropy.io.votable.converters]\n",
      "WARNING: W49: None:325:1473: W49: Empty cell illegal for integer fields. [astropy.io.votable.converters]\n",
      "WARNING: W49: None:326:1456: W49: Empty cell illegal for integer fields. [astropy.io.votable.converters]\n",
      "WARNING: W49: None:327:1453: W49: Empty cell illegal for integer fields. (suppressing further warnings of this type...) [astropy.io.votable.converters]\n",
      "WARNING: W49: None:320:1307: W49: Empty cell illegal for integer fields. [astropy.io.votable.converters]\n",
      "WARNING: W49: None:320:1397: W49: Empty cell illegal for integer fields. [astropy.io.votable.converters]\n",
      "WARNING: W49: None:321:1417: W49: Empty cell illegal for integer fields. [astropy.io.votable.converters]\n",
      "WARNING: W49: None:322:1305: W49: Empty cell illegal for integer fields. [astropy.io.votable.converters]\n",
      "WARNING: W49: None:322:1395: W49: Empty cell illegal for integer fields. [astropy.io.votable.converters]\n",
      "WARNING: W49: None:324:1459: W49: Empty cell illegal for integer fields. [astropy.io.votable.converters]\n",
      "WARNING: W49: None:325:1450: W49: Empty cell illegal for integer fields. [astropy.io.votable.converters]\n",
      "WARNING: W49: None:326:1428: W49: Empty cell illegal for integer fields. [astropy.io.votable.converters]\n",
      "WARNING: W49: None:327:1476: W49: Empty cell illegal for integer fields. [astropy.io.votable.converters]\n",
      "WARNING: W49: None:328:1424: W49: Empty cell illegal for integer fields. (suppressing further warnings of this type...) [astropy.io.votable.converters]\n",
      "WARNING: W49: None:320:1458: W49: Empty cell illegal for integer fields. [astropy.io.votable.converters]\n",
      "WARNING: W49: None:323:1458: W49: Empty cell illegal for integer fields. [astropy.io.votable.converters]\n",
      "WARNING: W49: None:324:1460: W49: Empty cell illegal for integer fields. [astropy.io.votable.converters]\n",
      "WARNING: W49: None:325:1462: W49: Empty cell illegal for integer fields. [astropy.io.votable.converters]\n",
      "WARNING: W49: None:327:1300: W49: Empty cell illegal for integer fields. [astropy.io.votable.converters]\n",
      "WARNING: W49: None:327:1390: W49: Empty cell illegal for integer fields. (suppressing further warnings of this type...) [astropy.io.votable.converters]\n",
      "WARNING: W49: None:322:1299: W49: Empty cell illegal for integer fields. [astropy.io.votable.converters]\n",
      "WARNING: W49: None:322:1389: W49: Empty cell illegal for integer fields. [astropy.io.votable.converters]\n",
      "WARNING: W49: None:323:1466: W49: Empty cell illegal for integer fields. [astropy.io.votable.converters]\n",
      "WARNING: W49: None:324:1457: W49: Empty cell illegal for integer fields. [astropy.io.votable.converters]\n",
      "WARNING: W49: None:325:1304: W49: Empty cell illegal for integer fields. [astropy.io.votable.converters]\n",
      "WARNING: W49: None:325:1394: W49: Empty cell illegal for integer fields. [astropy.io.votable.converters]\n",
      "WARNING: W49: None:326:1433: W49: Empty cell illegal for integer fields. [astropy.io.votable.converters]\n",
      "WARNING: W49: None:327:1462: W49: Empty cell illegal for integer fields. [astropy.io.votable.converters]\n",
      "WARNING: W49: None:328:1175: W49: Empty cell illegal for integer fields. [astropy.io.votable.converters]\n",
      "WARNING: W49: None:328:1265: W49: Empty cell illegal for integer fields. (suppressing further warnings of this type...) [astropy.io.votable.converters]\n",
      "WARNING: W49: None:320:1297: W49: Empty cell illegal for integer fields. [astropy.io.votable.converters]\n",
      "WARNING: W49: None:320:1387: W49: Empty cell illegal for integer fields. [astropy.io.votable.converters]\n",
      "WARNING: W49: None:321:1460: W49: Empty cell illegal for integer fields. [astropy.io.votable.converters]\n",
      "WARNING: W49: None:322:1300: W49: Empty cell illegal for integer fields. [astropy.io.votable.converters]\n",
      "WARNING: W49: None:322:1390: W49: Empty cell illegal for integer fields. [astropy.io.votable.converters]\n",
      "WARNING: W49: None:323:1455: W49: Empty cell illegal for integer fields. [astropy.io.votable.converters]\n",
      "WARNING: W49: None:324:1296: W49: Empty cell illegal for integer fields. [astropy.io.votable.converters]\n",
      "WARNING: W49: None:324:1386: W49: Empty cell illegal for integer fields. [astropy.io.votable.converters]\n",
      "WARNING: W49: None:326:1461: W49: Empty cell illegal for integer fields. [astropy.io.votable.converters]\n",
      "WARNING: W49: None:327:1305: W49: Empty cell illegal for integer fields. (suppressing further warnings of this type...) [astropy.io.votable.converters]\n"
     ]
    },
    {
     "name": "stderr",
     "output_type": "stream",
     "text": [
      "WARNING: W49: None:320:1464: W49: Empty cell illegal for integer fields. [astropy.io.votable.converters]\n",
      "WARNING: W49: None:321:1465: W49: Empty cell illegal for integer fields. [astropy.io.votable.converters]\n",
      "WARNING: W49: None:322:1462: W49: Empty cell illegal for integer fields. [astropy.io.votable.converters]\n",
      "WARNING: W49: None:323:1462: W49: Empty cell illegal for integer fields. [astropy.io.votable.converters]\n",
      "WARNING: W49: None:325:1460: W49: Empty cell illegal for integer fields. [astropy.io.votable.converters]\n",
      "WARNING: W49: None:327:1309: W49: Empty cell illegal for integer fields. [astropy.io.votable.converters]\n",
      "WARNING: W49: None:327:1399: W49: Empty cell illegal for integer fields. [astropy.io.votable.converters]\n",
      "WARNING: W49: None:328:1466: W49: Empty cell illegal for integer fields. [astropy.io.votable.converters]\n",
      "WARNING: W49: None:329:1460: W49: Empty cell illegal for integer fields. (suppressing further warnings of this type...) [astropy.io.votable.converters]\n"
     ]
    },
    {
     "name": "stdout",
     "output_type": "stream",
     "text": [
      "10 / 12 done\n"
     ]
    },
    {
     "name": "stderr",
     "output_type": "stream",
     "text": [
      "WARNING: W49: None:321:1466: W49: Empty cell illegal for integer fields. [astropy.io.votable.converters]\n",
      "WARNING: W49: None:323:1306: W49: Empty cell illegal for integer fields. [astropy.io.votable.converters]\n",
      "WARNING: W49: None:323:1396: W49: Empty cell illegal for integer fields. [astropy.io.votable.converters]\n",
      "WARNING: W49: None:324:1456: W49: Empty cell illegal for integer fields. [astropy.io.votable.converters]\n",
      "WARNING: W49: None:325:1305: W49: Empty cell illegal for integer fields. [astropy.io.votable.converters]\n",
      "WARNING: W49: None:325:1395: W49: Empty cell illegal for integer fields. [astropy.io.votable.converters]\n",
      "WARNING: W49: None:326:1482: W49: Empty cell illegal for integer fields. [astropy.io.votable.converters]\n",
      "WARNING: W49: None:327:1301: W49: Empty cell illegal for integer fields. [astropy.io.votable.converters]\n",
      "WARNING: W49: None:327:1391: W49: Empty cell illegal for integer fields. [astropy.io.votable.converters]\n",
      "WARNING: W49: None:328:1286: W49: Empty cell illegal for integer fields. (suppressing further warnings of this type...) [astropy.io.votable.converters]\n"
     ]
    },
    {
     "name": "stdout",
     "output_type": "stream",
     "text": [
      "11 / 12 done\n"
     ]
    },
    {
     "name": "stderr",
     "output_type": "stream",
     "text": [
      "WARNING: W49: None:320:1282: W49: Empty cell illegal for integer fields. [astropy.io.votable.converters]\n",
      "WARNING: W49: None:320:1372: W49: Empty cell illegal for integer fields. [astropy.io.votable.converters]\n",
      "WARNING: W49: None:321:1170: W49: Empty cell illegal for integer fields. [astropy.io.votable.converters]\n",
      "WARNING: W49: None:321:1260: W49: Empty cell illegal for integer fields. [astropy.io.votable.converters]\n",
      "WARNING: W49: None:322:1278: W49: Empty cell illegal for integer fields. [astropy.io.votable.converters]\n",
      "WARNING: W49: None:322:1368: W49: Empty cell illegal for integer fields. [astropy.io.votable.converters]\n",
      "WARNING: W49: None:323:1281: W49: Empty cell illegal for integer fields. [astropy.io.votable.converters]\n",
      "WARNING: W49: None:323:1371: W49: Empty cell illegal for integer fields. [astropy.io.votable.converters]\n",
      "WARNING: W49: None:324:1307: W49: Empty cell illegal for integer fields. [astropy.io.votable.converters]\n",
      "WARNING: W49: None:324:1397: W49: Empty cell illegal for integer fields. (suppressing further warnings of this type...) [astropy.io.votable.converters]\n"
     ]
    },
    {
     "name": "stdout",
     "output_type": "stream",
     "text": [
      "all files have been successfully downloaded to ../data/day_1/\n"
     ]
    }
   ],
   "source": [
    "## example how to query everything for all sources that have parallax > 20 i.e. are closer than 50pc\n",
    "Select_what =   \"\"\"*\"\"\"\n",
    "under_condition = \"\"\"AND parallax > 20\"\"\"\n",
    "folder = '../data/day_1/gdr2_near/50pc/'\n",
    "hpx_level = 0\n",
    "service = 'CDS'\n",
    "\n",
    "# This actually queries the selected service\n",
    "tap.tap_query_gdr2_hpx_sliced(service = service, hpx_level = hpx_level, folder = folder,\n",
    "                              Select_what = Select_what, under_condition = under_condition,\n",
    "                              verbose = True, test_1st_hpx_only=False)\n",
    "\n",
    "# Here we combine the files to one structured array\n",
    "tap.stack_healpix_files(folder)\n",
    "\n",
    "# And save it in a format readable to topcat\n",
    "x = np.load(folder + 'result.npy')\n",
    "fits.writeto(folder + 'nearby_sample_50pc.fits', x)"
   ]
  },
  {
   "cell_type": "code",
   "execution_count": 3,
   "metadata": {},
   "outputs": [
    {
     "name": "stdout",
     "output_type": "stream",
     "text": [
      "Healpix level, gaia_factor, #healpixels\n",
      "0 576460752303423488 12\n",
      "folder did not exist before, is created now\n",
      "number of attempt: 1\n",
      "number of files in folder: 0\n",
      "number of hpx chunks: 12\n",
      "0 added to the job list\n",
      "1 added to the job list\n",
      "2 added to the job list\n",
      "3 added to the job list\n",
      "4 added to the job list\n",
      "5 added to the job list\n",
      "6 added to the job list\n",
      "7 added to the job list\n",
      "8 added to the job list\n",
      "9 added to the job list\n",
      "10 added to the job list\n",
      "11 added to the job list\n",
      "total ADQL queries to download: 12\n"
     ]
    },
    {
     "name": "stderr",
     "output_type": "stream",
     "text": [
      "WARNING: W27: None:15:480: W27: COOSYS deprecated in VOTable 1.2 [astropy.io.votable.tree]\n",
      "WARNING: W50: None:200:2793: W50: Invalid unit string 's**-1' [astropy.io.votable.tree]\n",
      "WARNING: W50: None:200:2986: W50: Invalid unit string 's**-1' [astropy.io.votable.tree]\n",
      "WARNING: W50: None:200:3185: W50: Invalid unit string 's**-1' [astropy.io.votable.tree]\n",
      "WARNING: W50: None:200:3367: W50: Invalid unit string 's**-1' [astropy.io.votable.tree]\n",
      "WARNING: W50: None:200:4184: W50: Invalid unit string 's**-1' [astropy.io.votable.tree]\n",
      "WARNING: W50: None:200:4366: W50: Invalid unit string 's**-1' [astropy.io.votable.tree]\n",
      "WARNING: W06: None:200:8567: W06: Invalid UCD 'phot.color;em.opt.B;em.opt.R': Unknown word 'phot.color' [astropy.io.votable.tree]\n",
      "WARNING: W06: None:200:8707: W06: Invalid UCD 'phot.color;em.opt.B;em.opt.V': Unknown word 'phot.color' [astropy.io.votable.tree]\n",
      "WARNING: W06: None:200:8844: W06: Invalid UCD 'phot.color;em.opt.V;em.opt.R': Unknown word 'phot.color' [astropy.io.votable.tree]\n",
      "WARNING: W06: None:200:8981: W06: Invalid UCD 'phot.color;em.opt.I': Unknown word 'phot.color' [astropy.io.votable.tree]\n",
      "WARNING: W06: None:200:9328: W06: Invalid UCD 'stat.number;obs;spect.dopplerVeloc': Unknown word 'stat.number' [astropy.io.votable.tree]\n",
      "WARNING: W50: None:200:12314: W50: Invalid unit string 'um**-1' [astropy.io.votable.tree]\n",
      "WARNING: W06: None:200:13609: W06: Invalid UCD 'stat.number;obs': Unknown word 'stat.number' [astropy.io.votable.tree]\n",
      "WARNING: W50: None:200:15242: W50: Invalid unit string 'mas**-2' [astropy.io.votable.tree]\n",
      "WARNING: W50: None:200:15437: W50: Invalid unit string 'mas**-2' [astropy.io.votable.tree]\n",
      "WARNING: W06: None:200:19966: W06: Invalid UCD 'stat.min;phys.temperature': Secondary word 'stat.min' is not valid as a primary word [astropy.io.votable.tree]\n",
      "WARNING: W06: None:200:20241: W06: Invalid UCD 'stat.max;phys.temperature': Secondary word 'stat.max' is not valid as a primary word [astropy.io.votable.tree]\n",
      "WARNING: W06: None:200:20679: W06: Invalid UCD 'stat.min;phys.absorption': Secondary word 'stat.min' is not valid as a primary word [astropy.io.votable.tree]\n",
      "WARNING: W06: None:200:20970: W06: Invalid UCD 'stat.max;phys.absorption': Secondary word 'stat.max' is not valid as a primary word (suppressing further warnings of this type...) [astropy.io.votable.tree]\n",
      "WARNING: W50: None:200:23969: W50: Invalid unit string 'log(cm/(s**2))' (suppressing further warnings of this type...) [astropy.io.votable.tree]\n",
      "WARNING: AstropyDeprecationWarning: Using the table property is deprecated. Please use se to_table() instead. [pyvo.dal.query]\n"
     ]
    },
    {
     "name": "stdout",
     "output_type": "stream",
     "text": [
      "3 / 12 done\n",
      "8 / 12 done\n",
      "all files have been successfully downloaded to ../data/day_1/mock/\n"
     ]
    },
    {
     "ename": "ValueError",
     "evalue": "Illegal format `object`.",
     "output_type": "error",
     "traceback": [
      "\u001b[0;31m---------------------------------------------------------------------------\u001b[0m",
      "\u001b[0;31mValueError\u001b[0m                                Traceback (most recent call last)",
      "\u001b[0;32m<ipython-input-3-50124688826a>\u001b[0m in \u001b[0;36m<module>\u001b[0;34m()\u001b[0m\n\u001b[1;32m     15\u001b[0m \u001b[0;34m\u001b[0m\u001b[0m\n\u001b[1;32m     16\u001b[0m \u001b[0mx\u001b[0m \u001b[0;34m=\u001b[0m \u001b[0mnp\u001b[0m\u001b[0;34m.\u001b[0m\u001b[0mload\u001b[0m\u001b[0;34m(\u001b[0m\u001b[0mfolder\u001b[0m \u001b[0;34m+\u001b[0m \u001b[0;34m'result.npy'\u001b[0m\u001b[0;34m)\u001b[0m\u001b[0;34m\u001b[0m\u001b[0m\n\u001b[0;32m---> 17\u001b[0;31m \u001b[0mfits\u001b[0m\u001b[0;34m.\u001b[0m\u001b[0mwriteto\u001b[0m\u001b[0;34m(\u001b[0m\u001b[0mfolder\u001b[0m \u001b[0;34m+\u001b[0m \u001b[0;34m'nearby_mock_sample.fits'\u001b[0m\u001b[0;34m,\u001b[0m \u001b[0mx\u001b[0m\u001b[0;34m)\u001b[0m\u001b[0;34m\u001b[0m\u001b[0m\n\u001b[0m",
      "\u001b[0;32m~/anaconda3/lib/python3.6/site-packages/astropy/utils/decorators.py\u001b[0m in \u001b[0;36mwrapper\u001b[0;34m(*args, **kwargs)\u001b[0m\n\u001b[1;32m    486\u001b[0m                         \u001b[0;31m# one with the name of the new argument to the function\u001b[0m\u001b[0;34m\u001b[0m\u001b[0;34m\u001b[0m\u001b[0m\n\u001b[1;32m    487\u001b[0m                         \u001b[0mkwargs\u001b[0m\u001b[0;34m[\u001b[0m\u001b[0mnew_name\u001b[0m\u001b[0;34m[\u001b[0m\u001b[0mi\u001b[0m\u001b[0;34m]\u001b[0m\u001b[0;34m]\u001b[0m \u001b[0;34m=\u001b[0m \u001b[0mvalue\u001b[0m\u001b[0;34m\u001b[0m\u001b[0m\n\u001b[0;32m--> 488\u001b[0;31m             \u001b[0;32mreturn\u001b[0m \u001b[0mfunction\u001b[0m\u001b[0;34m(\u001b[0m\u001b[0;34m*\u001b[0m\u001b[0margs\u001b[0m\u001b[0;34m,\u001b[0m \u001b[0;34m**\u001b[0m\u001b[0mkwargs\u001b[0m\u001b[0;34m)\u001b[0m\u001b[0;34m\u001b[0m\u001b[0m\n\u001b[0m\u001b[1;32m    489\u001b[0m \u001b[0;34m\u001b[0m\u001b[0m\n\u001b[1;32m    490\u001b[0m         \u001b[0;32mreturn\u001b[0m \u001b[0mwrapper\u001b[0m\u001b[0;34m\u001b[0m\u001b[0m\n",
      "\u001b[0;32m~/anaconda3/lib/python3.6/site-packages/astropy/io/fits/convenience.py\u001b[0m in \u001b[0;36mwriteto\u001b[0;34m(filename, data, header, output_verify, overwrite, checksum)\u001b[0m\n\u001b[1;32m    417\u001b[0m     \"\"\"\n\u001b[1;32m    418\u001b[0m \u001b[0;34m\u001b[0m\u001b[0m\n\u001b[0;32m--> 419\u001b[0;31m     \u001b[0mhdu\u001b[0m \u001b[0;34m=\u001b[0m \u001b[0m_makehdu\u001b[0m\u001b[0;34m(\u001b[0m\u001b[0mdata\u001b[0m\u001b[0;34m,\u001b[0m \u001b[0mheader\u001b[0m\u001b[0;34m)\u001b[0m\u001b[0;34m\u001b[0m\u001b[0m\n\u001b[0m\u001b[1;32m    420\u001b[0m     \u001b[0;32mif\u001b[0m \u001b[0mhdu\u001b[0m\u001b[0;34m.\u001b[0m\u001b[0mis_image\u001b[0m \u001b[0;32mand\u001b[0m \u001b[0;32mnot\u001b[0m \u001b[0misinstance\u001b[0m\u001b[0;34m(\u001b[0m\u001b[0mhdu\u001b[0m\u001b[0;34m,\u001b[0m \u001b[0mPrimaryHDU\u001b[0m\u001b[0;34m)\u001b[0m\u001b[0;34m:\u001b[0m\u001b[0;34m\u001b[0m\u001b[0m\n\u001b[1;32m    421\u001b[0m         \u001b[0mhdu\u001b[0m \u001b[0;34m=\u001b[0m \u001b[0mPrimaryHDU\u001b[0m\u001b[0;34m(\u001b[0m\u001b[0mdata\u001b[0m\u001b[0;34m,\u001b[0m \u001b[0mheader\u001b[0m\u001b[0;34m=\u001b[0m\u001b[0mheader\u001b[0m\u001b[0;34m)\u001b[0m\u001b[0;34m\u001b[0m\u001b[0m\n",
      "\u001b[0;32m~/anaconda3/lib/python3.6/site-packages/astropy/io/fits/convenience.py\u001b[0m in \u001b[0;36m_makehdu\u001b[0;34m(data, header)\u001b[0m\n\u001b[1;32m   1023\u001b[0m         if ((isinstance(data, np.ndarray) and data.dtype.fields is not None) or\n\u001b[1;32m   1024\u001b[0m                 isinstance(data, np.recarray)):\n\u001b[0;32m-> 1025\u001b[0;31m             \u001b[0mhdu\u001b[0m \u001b[0;34m=\u001b[0m \u001b[0mBinTableHDU\u001b[0m\u001b[0;34m(\u001b[0m\u001b[0mdata\u001b[0m\u001b[0;34m,\u001b[0m \u001b[0mheader\u001b[0m\u001b[0;34m=\u001b[0m\u001b[0mheader\u001b[0m\u001b[0;34m)\u001b[0m\u001b[0;34m\u001b[0m\u001b[0m\n\u001b[0m\u001b[1;32m   1026\u001b[0m         \u001b[0;32melif\u001b[0m \u001b[0misinstance\u001b[0m\u001b[0;34m(\u001b[0m\u001b[0mdata\u001b[0m\u001b[0;34m,\u001b[0m \u001b[0mnp\u001b[0m\u001b[0;34m.\u001b[0m\u001b[0mndarray\u001b[0m\u001b[0;34m)\u001b[0m\u001b[0;34m:\u001b[0m\u001b[0;34m\u001b[0m\u001b[0m\n\u001b[1;32m   1027\u001b[0m             \u001b[0mhdu\u001b[0m \u001b[0;34m=\u001b[0m \u001b[0mImageHDU\u001b[0m\u001b[0;34m(\u001b[0m\u001b[0mdata\u001b[0m\u001b[0;34m,\u001b[0m \u001b[0mheader\u001b[0m\u001b[0;34m=\u001b[0m\u001b[0mheader\u001b[0m\u001b[0;34m)\u001b[0m\u001b[0;34m\u001b[0m\u001b[0m\n",
      "\u001b[0;32m~/anaconda3/lib/python3.6/site-packages/astropy/io/fits/hdu/table.py\u001b[0m in \u001b[0;36m__init__\u001b[0;34m(self, data, header, name, uint, ver, character_as_bytes)\u001b[0m\n\u001b[1;32m    855\u001b[0m \u001b[0;34m\u001b[0m\u001b[0m\n\u001b[1;32m    856\u001b[0m         super().__init__(data, header, name=name, uint=uint, ver=ver,\n\u001b[0;32m--> 857\u001b[0;31m                          character_as_bytes=character_as_bytes)\n\u001b[0m\u001b[1;32m    858\u001b[0m \u001b[0;34m\u001b[0m\u001b[0m\n\u001b[1;32m    859\u001b[0m     \u001b[0;34m@\u001b[0m\u001b[0mclassmethod\u001b[0m\u001b[0;34m\u001b[0m\u001b[0m\n",
      "\u001b[0;32m~/anaconda3/lib/python3.6/site-packages/astropy/io/fits/hdu/table.py\u001b[0m in \u001b[0;36m__init__\u001b[0;34m(self, data, header, name, uint, ver, character_as_bytes)\u001b[0m\n\u001b[1;32m    320\u001b[0m                     \u001b[0mself\u001b[0m\u001b[0;34m.\u001b[0m\u001b[0mdata\u001b[0m \u001b[0;34m=\u001b[0m \u001b[0mdata\u001b[0m\u001b[0;34m\u001b[0m\u001b[0m\n\u001b[1;32m    321\u001b[0m                 \u001b[0;32melse\u001b[0m\u001b[0;34m:\u001b[0m\u001b[0;34m\u001b[0m\u001b[0m\n\u001b[0;32m--> 322\u001b[0;31m                     \u001b[0mself\u001b[0m\u001b[0;34m.\u001b[0m\u001b[0mdata\u001b[0m \u001b[0;34m=\u001b[0m \u001b[0mself\u001b[0m\u001b[0;34m.\u001b[0m\u001b[0m_data_type\u001b[0m\u001b[0;34m.\u001b[0m\u001b[0mfrom_columns\u001b[0m\u001b[0;34m(\u001b[0m\u001b[0mdata\u001b[0m\u001b[0;34m)\u001b[0m\u001b[0;34m\u001b[0m\u001b[0m\n\u001b[0m\u001b[1;32m    323\u001b[0m \u001b[0;34m\u001b[0m\u001b[0m\n\u001b[1;32m    324\u001b[0m                 \u001b[0;31m# TEMP: Special column keywords are normally overwritten by attributes\u001b[0m\u001b[0;34m\u001b[0m\u001b[0;34m\u001b[0m\u001b[0m\n",
      "\u001b[0;32m~/anaconda3/lib/python3.6/site-packages/astropy/io/fits/fitsrec.py\u001b[0m in \u001b[0;36mfrom_columns\u001b[0;34m(cls, columns, nrows, fill, character_as_bytes)\u001b[0m\n\u001b[1;32m    302\u001b[0m \u001b[0;34m\u001b[0m\u001b[0m\n\u001b[1;32m    303\u001b[0m         \u001b[0;32mif\u001b[0m \u001b[0;32mnot\u001b[0m \u001b[0misinstance\u001b[0m\u001b[0;34m(\u001b[0m\u001b[0mcolumns\u001b[0m\u001b[0;34m,\u001b[0m \u001b[0mColDefs\u001b[0m\u001b[0;34m)\u001b[0m\u001b[0;34m:\u001b[0m\u001b[0;34m\u001b[0m\u001b[0m\n\u001b[0;32m--> 304\u001b[0;31m             \u001b[0mcolumns\u001b[0m \u001b[0;34m=\u001b[0m \u001b[0mColDefs\u001b[0m\u001b[0;34m(\u001b[0m\u001b[0mcolumns\u001b[0m\u001b[0;34m)\u001b[0m\u001b[0;34m\u001b[0m\u001b[0m\n\u001b[0m\u001b[1;32m    305\u001b[0m \u001b[0;34m\u001b[0m\u001b[0m\n\u001b[1;32m    306\u001b[0m         \u001b[0;31m# read the delayed data\u001b[0m\u001b[0;34m\u001b[0m\u001b[0;34m\u001b[0m\u001b[0m\n",
      "\u001b[0;32m~/anaconda3/lib/python3.6/site-packages/astropy/io/fits/column.py\u001b[0m in \u001b[0;36m__init__\u001b[0;34m(self, input, ascii)\u001b[0m\n\u001b[1;32m   1325\u001b[0m         \u001b[0;32melif\u001b[0m \u001b[0misinstance\u001b[0m\u001b[0;34m(\u001b[0m\u001b[0minput\u001b[0m\u001b[0;34m,\u001b[0m \u001b[0mnp\u001b[0m\u001b[0;34m.\u001b[0m\u001b[0mndarray\u001b[0m\u001b[0;34m)\u001b[0m \u001b[0;32mand\u001b[0m \u001b[0minput\u001b[0m\u001b[0;34m.\u001b[0m\u001b[0mdtype\u001b[0m\u001b[0;34m.\u001b[0m\u001b[0mfields\u001b[0m \u001b[0;32mis\u001b[0m \u001b[0;32mnot\u001b[0m \u001b[0;32mNone\u001b[0m\u001b[0;34m:\u001b[0m\u001b[0;34m\u001b[0m\u001b[0m\n\u001b[1;32m   1326\u001b[0m             \u001b[0;31m# Construct columns from the fields of a record array\u001b[0m\u001b[0;34m\u001b[0m\u001b[0;34m\u001b[0m\u001b[0m\n\u001b[0;32m-> 1327\u001b[0;31m             \u001b[0mself\u001b[0m\u001b[0;34m.\u001b[0m\u001b[0m_init_from_array\u001b[0m\u001b[0;34m(\u001b[0m\u001b[0minput\u001b[0m\u001b[0;34m)\u001b[0m\u001b[0;34m\u001b[0m\u001b[0m\n\u001b[0m\u001b[1;32m   1328\u001b[0m         \u001b[0;32melif\u001b[0m \u001b[0misiterable\u001b[0m\u001b[0;34m(\u001b[0m\u001b[0minput\u001b[0m\u001b[0;34m)\u001b[0m\u001b[0;34m:\u001b[0m\u001b[0;34m\u001b[0m\u001b[0m\n\u001b[1;32m   1329\u001b[0m             \u001b[0;31m# if the input is a list of Columns\u001b[0m\u001b[0;34m\u001b[0m\u001b[0;34m\u001b[0m\u001b[0m\n",
      "\u001b[0;32m~/anaconda3/lib/python3.6/site-packages/astropy/io/fits/column.py\u001b[0m in \u001b[0;36m_init_from_array\u001b[0;34m(self, array)\u001b[0m\n\u001b[1;32m   1360\u001b[0m             \u001b[0mcname\u001b[0m \u001b[0;34m=\u001b[0m \u001b[0marray\u001b[0m\u001b[0;34m.\u001b[0m\u001b[0mdtype\u001b[0m\u001b[0;34m.\u001b[0m\u001b[0mnames\u001b[0m\u001b[0;34m[\u001b[0m\u001b[0midx\u001b[0m\u001b[0;34m]\u001b[0m\u001b[0;34m\u001b[0m\u001b[0m\n\u001b[1;32m   1361\u001b[0m             \u001b[0mftype\u001b[0m \u001b[0;34m=\u001b[0m \u001b[0marray\u001b[0m\u001b[0;34m.\u001b[0m\u001b[0mdtype\u001b[0m\u001b[0;34m.\u001b[0m\u001b[0mfields\u001b[0m\u001b[0;34m[\u001b[0m\u001b[0mcname\u001b[0m\u001b[0;34m]\u001b[0m\u001b[0;34m[\u001b[0m\u001b[0;36m0\u001b[0m\u001b[0;34m]\u001b[0m\u001b[0;34m\u001b[0m\u001b[0m\n\u001b[0;32m-> 1362\u001b[0;31m             \u001b[0mformat\u001b[0m \u001b[0;34m=\u001b[0m \u001b[0mself\u001b[0m\u001b[0;34m.\u001b[0m\u001b[0m_col_format_cls\u001b[0m\u001b[0;34m.\u001b[0m\u001b[0mfrom_recformat\u001b[0m\u001b[0;34m(\u001b[0m\u001b[0mftype\u001b[0m\u001b[0;34m)\u001b[0m\u001b[0;34m\u001b[0m\u001b[0m\n\u001b[0m\u001b[1;32m   1363\u001b[0m \u001b[0;34m\u001b[0m\u001b[0m\n\u001b[1;32m   1364\u001b[0m             \u001b[0;31m# Determine the appropriate dimensions for items in the column\u001b[0m\u001b[0;34m\u001b[0m\u001b[0;34m\u001b[0m\u001b[0m\n",
      "\u001b[0;32m~/anaconda3/lib/python3.6/site-packages/astropy/io/fits/column.py\u001b[0m in \u001b[0;36mfrom_recformat\u001b[0;34m(cls, recformat)\u001b[0m\n\u001b[1;32m    223\u001b[0m         \u001b[0;34m\"\"\"Creates a column format from a Numpy record dtype format.\"\"\"\u001b[0m\u001b[0;34m\u001b[0m\u001b[0m\n\u001b[1;32m    224\u001b[0m \u001b[0;34m\u001b[0m\u001b[0m\n\u001b[0;32m--> 225\u001b[0;31m         \u001b[0;32mreturn\u001b[0m \u001b[0mcls\u001b[0m\u001b[0;34m(\u001b[0m\u001b[0m_convert_format\u001b[0m\u001b[0;34m(\u001b[0m\u001b[0mrecformat\u001b[0m\u001b[0;34m,\u001b[0m \u001b[0mreverse\u001b[0m\u001b[0;34m=\u001b[0m\u001b[0;32mTrue\u001b[0m\u001b[0;34m)\u001b[0m\u001b[0;34m)\u001b[0m\u001b[0;34m\u001b[0m\u001b[0m\n\u001b[0m\u001b[1;32m    226\u001b[0m \u001b[0;34m\u001b[0m\u001b[0m\n\u001b[1;32m    227\u001b[0m     \u001b[0;34m@\u001b[0m\u001b[0mlazyproperty\u001b[0m\u001b[0;34m\u001b[0m\u001b[0m\n",
      "\u001b[0;32m~/anaconda3/lib/python3.6/site-packages/astropy/io/fits/column.py\u001b[0m in \u001b[0;36m_convert_format\u001b[0;34m(format, reverse)\u001b[0m\n\u001b[1;32m   2348\u001b[0m \u001b[0;34m\u001b[0m\u001b[0m\n\u001b[1;32m   2349\u001b[0m     \u001b[0;32mif\u001b[0m \u001b[0mreverse\u001b[0m\u001b[0;34m:\u001b[0m\u001b[0;34m\u001b[0m\u001b[0m\n\u001b[0;32m-> 2350\u001b[0;31m         \u001b[0;32mreturn\u001b[0m \u001b[0m_convert_record2fits\u001b[0m\u001b[0;34m(\u001b[0m\u001b[0mformat\u001b[0m\u001b[0;34m)\u001b[0m\u001b[0;34m\u001b[0m\u001b[0m\n\u001b[0m\u001b[1;32m   2351\u001b[0m     \u001b[0;32melse\u001b[0m\u001b[0;34m:\u001b[0m\u001b[0;34m\u001b[0m\u001b[0m\n\u001b[1;32m   2352\u001b[0m         \u001b[0;32mreturn\u001b[0m \u001b[0m_convert_fits2record\u001b[0m\u001b[0;34m(\u001b[0m\u001b[0mformat\u001b[0m\u001b[0;34m)\u001b[0m\u001b[0;34m\u001b[0m\u001b[0m\n",
      "\u001b[0;32m~/anaconda3/lib/python3.6/site-packages/astropy/io/fits/column.py\u001b[0m in \u001b[0;36m_convert_record2fits\u001b[0;34m(format)\u001b[0m\n\u001b[1;32m   2311\u001b[0m         \u001b[0moutput_format\u001b[0m \u001b[0;34m=\u001b[0m \u001b[0mrepeat\u001b[0m \u001b[0;34m+\u001b[0m \u001b[0mNUMPY2FITS\u001b[0m\u001b[0;34m[\u001b[0m\u001b[0mrecformat\u001b[0m\u001b[0;34m]\u001b[0m\u001b[0;34m\u001b[0m\u001b[0m\n\u001b[1;32m   2312\u001b[0m     \u001b[0;32melse\u001b[0m\u001b[0;34m:\u001b[0m\u001b[0;34m\u001b[0m\u001b[0m\n\u001b[0;32m-> 2313\u001b[0;31m         \u001b[0;32mraise\u001b[0m \u001b[0mValueError\u001b[0m\u001b[0;34m(\u001b[0m\u001b[0;34m'Illegal format `{}`.'\u001b[0m\u001b[0;34m.\u001b[0m\u001b[0mformat\u001b[0m\u001b[0;34m(\u001b[0m\u001b[0mformat\u001b[0m\u001b[0;34m)\u001b[0m\u001b[0;34m)\u001b[0m\u001b[0;34m\u001b[0m\u001b[0m\n\u001b[0m\u001b[1;32m   2314\u001b[0m \u001b[0;34m\u001b[0m\u001b[0m\n\u001b[1;32m   2315\u001b[0m     \u001b[0;32mreturn\u001b[0m \u001b[0moutput_format\u001b[0m\u001b[0;34m\u001b[0m\u001b[0m\n",
      "\u001b[0;31mValueError\u001b[0m: Illegal format `object`."
     ]
    }
   ],
   "source": [
    "# Same as above but querying the GDR2mock catalogue\n",
    "Select_what =   \"\"\"*\"\"\"\n",
    "under_condition = \"\"\"AND parallax > 10\"\"\"\n",
    "folder = '../data/day_1/gdr2mock_near/'\n",
    "hpx_level = 0\n",
    "service = 'GDR2mock'\n",
    "\n",
    "tap.tap_query_gdr2_hpx_sliced(service = service, hpx_level = hpx_level, folder = folder,\n",
    "                              Select_what = Select_what, under_condition = under_condition,\n",
    "                              verbose = True, test_1st_hpx_only=False)\n",
    "\n",
    "tap.stack_healpix_files(folder)"
   ]
  },
  {
   "cell_type": "code",
   "execution_count": 3,
   "metadata": {},
   "outputs": [
    {
     "name": "stdout",
     "output_type": "stream",
     "text": [
      "Interrogating http://stev.oapd.inaf.it...\n",
      "Downloading data...http://stev.oapd.inaf.it/tmp/output876676989560.dat\n",
      "Interrogating http://stev.oapd.inaf.it...\n",
      "Downloading data...http://stev.oapd.inaf.it/tmp/output634784973532.dat\n",
      "Interrogating http://stev.oapd.inaf.it...\n",
      "Downloading data...http://stev.oapd.inaf.it/tmp/output382388909421.dat\n",
      "Interrogating http://stev.oapd.inaf.it...\n",
      "Downloading data...http://stev.oapd.inaf.it/tmp/output34622356136.dat\n",
      "Finished  [Fe/H]=-2.0   AV=0.0\n",
      "Interrogating http://stev.oapd.inaf.it...\n",
      "Downloading data...http://stev.oapd.inaf.it/tmp/output546241000834.dat\n",
      "Interrogating http://stev.oapd.inaf.it...\n",
      "Downloading data...http://stev.oapd.inaf.it/tmp/output132805104673.dat\n",
      "Interrogating http://stev.oapd.inaf.it...\n",
      "Downloading data...http://stev.oapd.inaf.it/tmp/output377919687963.dat\n",
      "Interrogating http://stev.oapd.inaf.it...\n",
      "Downloading data...http://stev.oapd.inaf.it/tmp/output299828771342.dat\n",
      "Finished  [Fe/H]=-1.75   AV=0.0\n",
      "Interrogating http://stev.oapd.inaf.it...\n",
      "Downloading data...http://stev.oapd.inaf.it/tmp/output351033089756.dat\n",
      "Interrogating http://stev.oapd.inaf.it...\n",
      "Downloading data...http://stev.oapd.inaf.it/tmp/output838605043551.dat\n",
      "Interrogating http://stev.oapd.inaf.it...\n",
      "Downloading data...http://stev.oapd.inaf.it/tmp/output157768913851.dat\n",
      "Interrogating http://stev.oapd.inaf.it...\n",
      "Downloading data...http://stev.oapd.inaf.it/tmp/output544662931076.dat\n",
      "Finished  [Fe/H]=-1.5   AV=0.0\n",
      "Interrogating http://stev.oapd.inaf.it...\n",
      "Downloading data...http://stev.oapd.inaf.it/tmp/output548778324694.dat\n",
      "Interrogating http://stev.oapd.inaf.it...\n",
      "Downloading data...http://stev.oapd.inaf.it/tmp/output136095726470.dat\n",
      "Interrogating http://stev.oapd.inaf.it...\n",
      "Downloading data...http://stev.oapd.inaf.it/tmp/output424934712545.dat\n",
      "Interrogating http://stev.oapd.inaf.it...\n",
      "Downloading data...http://stev.oapd.inaf.it/tmp/output985013974205.dat\n",
      "Finished  [Fe/H]=-1.25   AV=0.0\n",
      "Interrogating http://stev.oapd.inaf.it...\n",
      "Downloading data...http://stev.oapd.inaf.it/tmp/output700027602565.dat\n",
      "Interrogating http://stev.oapd.inaf.it...\n",
      "Downloading data...http://stev.oapd.inaf.it/tmp/output993184761916.dat\n",
      "Interrogating http://stev.oapd.inaf.it...\n",
      "Downloading data...http://stev.oapd.inaf.it/tmp/output951320429406.dat\n",
      "Interrogating http://stev.oapd.inaf.it...\n",
      "Downloading data...http://stev.oapd.inaf.it/tmp/output145308034102.dat\n",
      "Finished  [Fe/H]=-1.0   AV=0.0\n",
      "Interrogating http://stev.oapd.inaf.it...\n",
      "Downloading data...http://stev.oapd.inaf.it/tmp/output396789779028.dat\n",
      "Interrogating http://stev.oapd.inaf.it...\n",
      "Downloading data...http://stev.oapd.inaf.it/tmp/output757859933030.dat\n",
      "Interrogating http://stev.oapd.inaf.it...\n",
      "Downloading data...http://stev.oapd.inaf.it/tmp/output239536551599.dat\n",
      "Interrogating http://stev.oapd.inaf.it...\n",
      "Downloading data...http://stev.oapd.inaf.it/tmp/output635855233370.dat\n",
      "Finished  [Fe/H]=-0.75   AV=0.0\n",
      "Interrogating http://stev.oapd.inaf.it...\n",
      "Downloading data...http://stev.oapd.inaf.it/tmp/output114750532972.dat\n",
      "Interrogating http://stev.oapd.inaf.it...\n",
      "Downloading data...http://stev.oapd.inaf.it/tmp/output235197195158.dat\n",
      "Interrogating http://stev.oapd.inaf.it...\n",
      "Downloading data...http://stev.oapd.inaf.it/tmp/output179897685376.dat\n",
      "Interrogating http://stev.oapd.inaf.it...\n",
      "Downloading data...http://stev.oapd.inaf.it/tmp/output833534475489.dat\n",
      "Finished  [Fe/H]=-0.5   AV=0.0\n",
      "Interrogating http://stev.oapd.inaf.it...\n",
      "Downloading data...http://stev.oapd.inaf.it/tmp/output783166171590.dat\n",
      "Interrogating http://stev.oapd.inaf.it...\n",
      "Downloading data...http://stev.oapd.inaf.it/tmp/output350741438874.dat\n",
      "Interrogating http://stev.oapd.inaf.it...\n",
      "Downloading data...http://stev.oapd.inaf.it/tmp/output18973516373.dat\n",
      "Interrogating http://stev.oapd.inaf.it...\n",
      "Downloading data...http://stev.oapd.inaf.it/tmp/output529004310331.dat\n",
      "Finished  [Fe/H]=-0.25   AV=0.0\n",
      "Interrogating http://stev.oapd.inaf.it...\n",
      "Downloading data...http://stev.oapd.inaf.it/tmp/output685969107858.dat\n",
      "Interrogating http://stev.oapd.inaf.it...\n",
      "Downloading data...http://stev.oapd.inaf.it/tmp/output972732347277.dat\n",
      "Interrogating http://stev.oapd.inaf.it...\n",
      "Downloading data...http://stev.oapd.inaf.it/tmp/output634741854927.dat\n",
      "Interrogating http://stev.oapd.inaf.it...\n",
      "Downloading data...http://stev.oapd.inaf.it/tmp/output943072595940.dat\n",
      "Finished  [Fe/H]=0.0   AV=0.0\n",
      "Interrogating http://stev.oapd.inaf.it...\n",
      "Downloading data...http://stev.oapd.inaf.it/tmp/output801422695702.dat\n",
      "Interrogating http://stev.oapd.inaf.it...\n",
      "Downloading data...http://stev.oapd.inaf.it/tmp/output738482910747.dat\n",
      "Interrogating http://stev.oapd.inaf.it...\n",
      "Downloading data...http://stev.oapd.inaf.it/tmp/output466078539918.dat\n",
      "Interrogating http://stev.oapd.inaf.it...\n",
      "Downloading data...http://stev.oapd.inaf.it/tmp/output172808470510.dat\n",
      "Finished  [Fe/H]=0.25   AV=0.0\n",
      "Interrogating http://stev.oapd.inaf.it...\n",
      "Downloading data...http://stev.oapd.inaf.it/tmp/output793121485811.dat\n",
      "Interrogating http://stev.oapd.inaf.it...\n",
      "Downloading data...http://stev.oapd.inaf.it/tmp/output336820870245.dat\n",
      "Interrogating http://stev.oapd.inaf.it...\n",
      "Downloading data...http://stev.oapd.inaf.it/tmp/output231567485331.dat\n",
      "Interrogating http://stev.oapd.inaf.it...\n",
      "Downloading data...http://stev.oapd.inaf.it/tmp/output624843857091.dat\n",
      "Finished  [Fe/H]=0.5   AV=0.0\n"
     ]
    }
   ],
   "source": [
    "# Set solar metallicity.\n",
    "Zsun = 0.0152\n",
    "# AV grid.\n",
    "AVgrid = numpy.arange(0., 0.00001, 0.025)\n",
    "# Set age grid for isochrones.\n",
    "logt0 =  6.60  # minimal value of log(t/yr)\n",
    "logt1 = 10.10  # maximal value of log(t/yr)\n",
    "dlogt =  0.05  # step in log(t/yr) for the sequence\n",
    "# Loop over extinction.\n",
    "Output = open('../data/day_1/parsec_isochrones/parsec-auto-grid_bands.csv', 'w')\n",
    "Output.write('#mass,age,feh,a0,teff,logg,lum,gaia_g,gaia_bp,gaia_rp,ubv_u,ubv_b,ubv_v,ubv_r,ubv_i,ubv_j,ubv_h,ubv_k,sdss_u,sdss_g,sdss_r,sdss_i,sdss_z,2mass_j,2mass_h,2mass_ks,wise_w1,wise_w2,wise_w3,wise_w4\\n')\n",
    "\n",
    "for feh_index,feh in enumerate([-2.0,-1.75,-1.5,-1.25,-1.0,-0.75,-0.5,-0.25,0.0,0.25,0.5]):\n",
    "    # Write output.\n",
    "\n",
    "    # From [Fe/H] to Z.\n",
    "    Z = Zsun*math.pow(10.0, feh)\n",
    "    # Get magnitudes for zero extinction\n",
    "    G0   = numpy.nan\n",
    "    Gbp0 = numpy.nan\n",
    "    Grp0 = numpy.nan\n",
    "    for av in AVgrid:\n",
    "        table = parsec.get_t_isochrones(logt0, logt1, dlogt, Z, ret_table=True, model='parsec12s', phot='gaiaDR2', extinction_av=av)\n",
    "        ubv = parsec.get_t_isochrones(logt0, logt1, dlogt, Z, ret_table=True, model='parsec12s', phot='ubvrijhk', extinction_av=av)\n",
    "        ugriz = parsec.get_t_isochrones(logt0, logt1, dlogt, Z, ret_table=True, model='parsec12s', phot='sloan', extinction_av=av)\n",
    "        wise = parsec.get_t_isochrones(logt0, logt1, dlogt, Z, ret_table=True, model='parsec12s', phot='2mass_spitzer_wise', extinction_av=av)\n",
    "\n",
    "        #print table.keys()\n",
    "        \n",
    "    # Grab photometry.\n",
    "        assert(numpy.array_equal(table['M_ini'],ubv['M_ini']))\n",
    "        assert(numpy.array_equal(ugriz['M_ini'],ubv['M_ini']))\n",
    "        assert(numpy.array_equal(wise['M_ini'],ubv['M_ini']))\n",
    "        smass = table['M_ini']\n",
    "        age    = numpy.power(10,table['logageyr'])*1e-9\n",
    "        teff = table['logTe']\n",
    "        logg = table['logG']\n",
    "        lum = table['logLLo']\n",
    "        G       = table['G']\n",
    "        Gbp     = table['G_BP']\n",
    "        Grp     = table['G_RP']\n",
    "        U = ubv['U'] \n",
    "        B = ubv['B']\n",
    "        V = ubv['V']\n",
    "        R = ubv['R']\n",
    "        I = ubv['I']\n",
    "        J = ubv['J']\n",
    "        H = ubv['H']\n",
    "        K = ubv['K']\n",
    "        u = ugriz['u']\n",
    "        g = ugriz['g']\n",
    "        r = ugriz['r']\n",
    "        i = ugriz['i']\n",
    "        z = ugriz['z']\n",
    "        J2 = wise['J']\n",
    "        H2 = wise['H']\n",
    "        K2 = wise['Ks']\n",
    "        W1 = wise['W1']\n",
    "        W2 = wise['W2']\n",
    "        W3 = wise['W3']\n",
    "        W4 = wise['W4']        \n",
    "        N = len(G)\n",
    "        # Write outputs.\n",
    "        for n in range(N):\n",
    "            Output.write(str(smass[n])+','+str(age[n])+','+str(feh)+','+str(av)+','+str(teff[n])+\n",
    "                         ','+str(logg[n])+','+str(lum[n])+','+str(G[n])+','+str(Gbp[n])+\n",
    "                         ','+str(Grp[n])+','+str(U[n])+','+str(B[n])+','+str(V[n])+','+str(R[n])+\n",
    "             ','+str(I[n])+','+str(J[n])+','+str(H[n])+','+str(K[n])+','+str(u[n])+\n",
    "             ','+str(g[n])+','+str(r[n])+','+str(i[n])+','+str(z[n])+','+str(J2[n])+\n",
    "             ','+str(H2[n])+','+str(K2[n])+','+str(W1[n])+','+str(W2[n])+','+str(W3[n])+\n",
    "             ','+str(W4[n])+'\\n')\n",
    "        Output.flush()\n",
    "        print(\"Finished  [Fe/H]=\"+str(feh)+'   AV='+str(av))\n",
    "        sleep(2)\n",
    "    # Close output file.\n",
    "\n",
    "Output.close()"
   ]
  },
  {
   "cell_type": "code",
   "execution_count": 4,
   "metadata": {},
   "outputs": [
    {
     "data": {
      "text/plain": [
       "rec.array([(0.048067,  6.6 , 0.10906162, 0.1091, -1.5775, 3.3982,  3.5978,  8.714, 10.949, 13.62 ,  9.608, 1.65503716, 0),\n",
       "           (0.048067,  6.6 , 0.11472474, 0.1147, -1.5454, 3.4008,  3.5982,  8.634, 10.841, 13.481,  9.504, 1.70424283, 0),\n",
       "           (0.048067,  6.6 , 0.13623628, 0.1362, -1.4165, 3.4112,  3.5856,  8.311, 10.408, 12.921,  9.086, 1.86993372, 0),\n",
       "           ...,\n",
       "           (0.048067, 10.05, 1.04517996, 0.9191,  3.3707, 3.444 , -0.2414, -3.657, -0.324,  2.642, -1.682, 3.15261364, 7),\n",
       "           (0.048067, 10.05, 1.04518032, 0.9183,  3.383 , 3.4419, -0.2625, -3.688, -0.368,  2.601, -1.727, 3.15261364, 7),\n",
       "           (0.048067, 10.05, 1.04518044, 0.9181,  3.383 , 3.4419, -0.2626, -3.688, -0.368,  2.601, -1.727, 3.15261364, 8)],\n",
       "          dtype=[('Z', '<f8'), ('logageyr', '<f8'), ('M_ini', '<f8'), ('M_act', '<f8'), ('logLLo', '<f8'), ('logTe', '<f8'), ('logG', '<f8'), ('mbol', '<f8'), ('G', '<f8'), ('G_BP', '<f8'), ('G_RP', '<f8'), ('int_IMF', '<f8'), ('stage', '<i8')])"
      ]
     },
     "execution_count": 4,
     "metadata": {},
     "output_type": "execute_result"
    }
   ],
   "source": [
    "table.data"
   ]
  },
  {
   "cell_type": "code",
   "execution_count": 7,
   "metadata": {
    "collapsed": true
   },
   "outputs": [],
   "source": [
    "x = np.genfromtxt('../data/day_1/parsec_isochrones/parsec-auto-grid_bands.csv', \n",
    "                  names = True, dtype = None, delimiter=',')"
   ]
  },
  {
   "cell_type": "code",
   "execution_count": 9,
   "metadata": {
    "collapsed": true
   },
   "outputs": [],
   "source": [
    "x = x.view(np.recarray)"
   ]
  },
  {
   "cell_type": "code",
   "execution_count": 10,
   "metadata": {
    "collapsed": true
   },
   "outputs": [],
   "source": [
    "np.save(\"../data/day_1/parsec_isochrones/no_ext_grid.npy\",x)"
   ]
  },
  {
   "cell_type": "code",
   "execution_count": 9,
   "metadata": {
    "collapsed": true
   },
   "outputs": [],
   "source": [
    "x = np.genfromtxt('../data/day_1/DR2_RUWE_V1/table_u0_g_col.txt',names = True,dtype = None, delimiter = \",\")\n",
    "np.save('../data/day_1/DR2_RUWE_V1/table_u0_g_col.npy',x)"
   ]
  },
  {
   "cell_type": "code",
   "execution_count": 7,
   "metadata": {
    "collapsed": true
   },
   "outputs": [],
   "source": [
    "x = np.genfromtxt('../data/day_1/DR2_RUWE_V1/table_u0_g.txt',names = True,dtype = None, delimiter = \",\")\n",
    "np.save('../data/day_1/DR2_RUWE_V1/table_u0_g.npy',x)"
   ]
  }
 ],
 "metadata": {
  "kernelspec": {
   "display_name": "Python 3",
   "language": "python",
   "name": "python3"
  },
  "language_info": {
   "codemirror_mode": {
    "name": "ipython",
    "version": 3
   },
   "file_extension": ".py",
   "mimetype": "text/x-python",
   "name": "python",
   "nbconvert_exporter": "python",
   "pygments_lexer": "ipython3",
   "version": "3.6.3"
  }
 },
 "nbformat": 4,
 "nbformat_minor": 2
}
