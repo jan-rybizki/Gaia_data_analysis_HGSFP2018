{
 "cells": [
  {
   "cell_type": "markdown",
   "metadata": {},
   "source": [
    "This is the first day of the HGSFP Graduate days lecture: Exploring the Milky Way: Statistical analysis of Gaia data\n",
    "\n",
    "What are you going to learn overall: It's a very graphical data set. Its huge data amounts with pitfalls. We will get acquainted with the different data sets and use different statistical/machine learning algorithms to interpret them. We will learn/exploit domain knowledge and also try to give you the background information to the methods and to stimulate your problem solving abilities.\n",
    "\n",
    "We will give you a little input and necessary information and then pose problems that you will adress in pairs and we will discuss in the group. We will work with jupyter notebooks using python to manipulate the data. The subsets of data are already here, but tools for acquiring more data and data vizualisation are provided and can be checked/extended. We will not manage to achieve everything, therefore motivated people can try and solve the missing bits at home.\n",
    "\n",
    "Today we will start with the astrometric data set. Which mainly consists of phasespace information, i.e. parallaxes and proper motion. We will see the flaws of the data and look for overdensities in space and velocity space.\n",
    "\n",
    "If you have questions / ideas please just throw them in.\n",
    "\n",
    "Lecture Plan\n",
    "Day 1: \n",
    "- Introduction to Milky Way and Stellar Science\n",
    "- Introduction to Gaia Mission and DR2 Data\n",
    "- Different data sets, historical context, what has been there until now\n",
    "- (Overview of GDR2 science cases) Overview of what we plan to do\n",
    "- How can we access this data, Short TAP tutorial introduce topcat\n",
    "- First hands-on: Solar neighbourhood stars and a cluster\n",
    "- What are parallaxes, how are they measured\n",
    "- Give ADQL query to retrieve solar neighbourhood isolate Hyades\n",
    "- Talk about spurious sources\n",
    "- Show CMD explain stellar evolution (determine age of Hyades)\n",
    "- Also show that in pm space\n",
    "- Compare CMD with and without pm classification\n",
    "\n",
    "Resources:\n",
    "- [Gaia Overview](https://www.aanda.org/articles/aa/abs/2018/08/aa32727-18/aa32727-18.html)\n",
    "- [Topcat](http://www.star.bris.ac.uk/%7Embt/topcat/)\n",
    "- [GDR2mock](http://adsabs.harvard.edu/abs/2018PASP..130g4101R)\n",
    "- [ADQL](https://www.gaia.ac.uk/data/gaia-data-release-1/adql-cookbook)\n",
    "- [RUWE](https://www.cosmos.esa.int/web/gaia/dr2-known-issues)\n",
    "- [PARSEC Isochrones](http://stev.oapd.inaf.it/cgi-bin/cmd)\n",
    "- [GDR2_completeness](https://github.com/jan-rybizki/gdr2_completeness)"
   ]
  },
  {
   "cell_type": "code",
   "execution_count": null,
   "metadata": {
    "collapsed": true
   },
   "outputs": [],
   "source": [
    "# For reproducability we will write out the versions of the libraries \n",
    "%load_ext version_information\n",
    "%version_information numpy, matplotlib, astropy, pyvo, scipy"
   ]
  },
  {
   "cell_type": "code",
   "execution_count": null,
   "metadata": {
    "collapsed": true
   },
   "outputs": [],
   "source": [
    "#load all the necessary libraries\n",
    "%pylab inline\n",
    "from astropy.io import fits\n",
    "\n",
    "#a few utility functions are outsourced into other files in order to make the notebook concise\n",
    "from plotting import plot_mollweide, plot_hrd\n",
    "from utility import compute_ruwe"
   ]
  },
  {
   "cell_type": "markdown",
   "metadata": {},
   "source": [
    "With the following ADQL query we get all Gaia DR2 stars with parallax > 20 mas. If you want to obtain the data set yourself you can have a look at the notebook 'Retrieving data day1' which was used to obtain the data for this notebook and essentially uses pyvo. You can also just enter the below ADQL query into topcat, once you are connected to the Vizier service (ivo://cds.vizier/tap): \n",
    "\n",
    "---\n",
    "\n",
    "```SQL\n",
    "SELECT *\n",
    "FROM \"I/345/gaia2\"\n",
    "WHERE parallax > 20```\n",
    "\n",
    "---\n",
    "\n",
    "Or at the browser interface of the [ESA Archive](https://gea.esac.esa.int/archive/):\n",
    "\n",
    "---\n",
    "\n",
    "```SQL\n",
    "SELECT *\n",
    "FROM gaiadr2.gaia_source\n",
    "WHERE parallax > 20```\n",
    "\n",
    "---\n",
    "\n",
    "And we do the same with [GDR2mock](http://dc.g-vo.org/browse/gdr2mock/q) from GAVO (ivo://org.gavo.dc/tap):\n",
    "\n",
    "---\n",
    "\n",
    "```SQL\n",
    "SELECT *\n",
    "FROM gdr2mock.main\n",
    "WHERE parallax > 20```\n",
    "\n",
    "---"
   ]
  },
  {
   "cell_type": "markdown",
   "metadata": {},
   "source": [
    "Input on:\n",
    "- Structure of the query, possible use cases (join, upload, )\n",
    "- Access the data (topcat, webinterface, pyvo)\n",
    "- Data volume (Float 4 bytes * 1.6bn = 6.4GB)\n",
    "- Data structure on the server (source_id, other indexed rows)\n",
    "- GDR2mock (Galaxy model, extinction map, PARSEC Isochrones)"
   ]
  },
  {
   "cell_type": "code",
   "execution_count": null,
   "metadata": {
    "collapsed": true
   },
   "outputs": [],
   "source": [
    "# Loading the nearby sample\n",
    "x = fits.getdata('../data/day_1/gdr2_near/nearby_sample_50pc.fits')\n",
    "x = x.view(np.recarray)\n",
    "print(len(x),x.dtype.names)\n",
    "print('###########################################')\n",
    "print('Now we load the GDR2 mock sample')\n",
    "print('###########################################')\n",
    "y = np.load('../data/day_1/gdr2mock_near/result_50pc.npy')\n",
    "y = y.view(np.recarray)\n",
    "print(len(y),y.dtype.names)"
   ]
  },
  {
   "cell_type": "markdown",
   "metadata": {},
   "source": [
    "What is the expectation for this sample?\n",
    "![MW](https://www.esa.int/var/esa/storage/images/esa_multimedia/images/2016/09/anatomy_of_the_milky_way/16112026-1-eng-GB/Anatomy_of_the_Milky_Way.jpg)"
   ]
  },
  {
   "cell_type": "code",
   "execution_count": null,
   "metadata": {
    "collapsed": true
   },
   "outputs": [],
   "source": [
    "# Expectations about the distribution of stars in the solar neighbourhood\n",
    "plt.hist(np.divide(1,x.parallax)*1000, label = 'GDR2')\n",
    "plt.hist(np.divide(1,y.parallax)*1000, label = 'GDR2mock')\n",
    "plt.legend()\n",
    "plt.xlabel(\"dist [pc]\")\n",
    "plt.ylabel(\"starcount\")\n",
    "plt.title('distance histogram solar neighbourhood')\n",
    "plt.yscale(\"log\")"
   ]
  },
  {
   "cell_type": "code",
   "execution_count": null,
   "metadata": {
    "collapsed": true
   },
   "outputs": [],
   "source": [
    "# Assessment of the problem with the data\n",
    "plot_mollweide(x.l,x.b,np.divide(1,x.parallax)*1000,'dist [pc]',r'GDR2 $\\varpi>20$')\n",
    "plot_mollweide(x.l,x.b,x.phot_g_mean_mag,'G [mag]',r'GDR2 $\\varpi>20$')\n",
    "plot_mollweide(y.l,y.b,y.phot_g_mean_mag,'G [mag]',r'GDR2mock $\\varpi>20$')"
   ]
  },
  {
   "cell_type": "markdown",
   "metadata": {},
   "source": [
    "Discussion:\n",
    "- Spurious sources\n",
    "\n",
    "---\n",
    "\n",
    "TASK (either in topcat or within this notebook): Try to identify good quality indicators, that help to get rid of the spurious sources.\n",
    "\n",
    "Try for example:`parallax_error`, `astrometric_n_good_obs_al`, `astrometric_chi2_al`, `astrometric_excess_noise`, `visibility_periods_used` and `phot_bp_rp_excess_factor`."
   ]
  },
  {
   "cell_type": "code",
   "execution_count": null,
   "metadata": {
    "collapsed": true
   },
   "outputs": [],
   "source": [
    "# This is what DPAC recommends (https://www.cosmos.esa.int/web/gaia/dr2-known-issues)\n",
    "#UWE = UNIT WEIGHT ERROR = sqrt(astrometric_chi2_al/(astrometric_n_good_obs_al-5))\n",
    "#And on top a dependence of that regarding to G mag and color.\n",
    "ru = compute_ruwe(x)\n",
    "# apply the cut and look at the result\n",
    "astro_cut = (ru<1.4)\n",
    "data = x[astro_cut]\n",
    "plot_mollweide(data.l,data.b,np.divide(1,data.parallax)*1000,'dist [pc]',r'GDR2 $\\varpi>20$, ruwe cut')"
   ]
  },
  {
   "cell_type": "code",
   "execution_count": null,
   "metadata": {
    "collapsed": true
   },
   "outputs": [],
   "source": [
    "# Photometric excess noise indicator, another quality indicator (Equation C2 from https://www.aanda.org/articles/aa/abs/2018/08/aa32727-18/aa32727-18.html)\n",
    "# phot_bp_rp_excess_factor = (BP + RP flux) / G flux\n",
    "photo_cut = (1 + 0.015 * (x.phot_bp_mean_mag - x.phot_rp_mean_mag)**2 < x.phot_bp_rp_excess_factor) & (1.3 + 0.06 * (x.phot_bp_mean_mag - x.phot_rp_mean_mag)**2 > x.phot_bp_rp_excess_factor)\n",
    "data = x[photo_cut]\n",
    "plot_mollweide(data.l,data.b,np.divide(1,data.parallax)*1000,'dist [pc]',r'GDR2 $\\varpi>20$, photometric_excess_noise cut')"
   ]
  },
  {
   "cell_type": "code",
   "execution_count": null,
   "metadata": {
    "collapsed": true
   },
   "outputs": [],
   "source": [
    "data = x[photo_cut & astro_cut]\n",
    "plot_mollweide(data.l,data.b,np.divide(1,data.parallax)*1000,'dist [pc]',r'GDR2 $\\varpi>20$, both cuts')"
   ]
  },
  {
   "cell_type": "code",
   "execution_count": null,
   "metadata": {
    "collapsed": true
   },
   "outputs": [],
   "source": [
    "data = x[~(photo_cut & astro_cut)]\n",
    "plot_mollweide(data.l,data.b,np.divide(1,data.parallax)*1000,'dist [pc]',r'GDR2 $\\varpi>20$, what was cut')"
   ]
  },
  {
   "cell_type": "code",
   "execution_count": null,
   "metadata": {
    "collapsed": true
   },
   "outputs": [],
   "source": [
    "# Now in the distance histogram\n",
    "data = x[photo_cut & astro_cut]\n",
    "plt.hist(np.divide(1,data.parallax)*1000, label = 'GDR2',alpha = 0.5)\n",
    "plt.hist(np.divide(1,y.parallax)*1000, label = 'GDR2mock', alpha = 0.5)\n",
    "plt.legend()\n",
    "plt.xlabel(\"dist [pc]\")\n",
    "plt.ylabel(\"starcount\")\n",
    "plt.title('distance histogram solar neighbourhood')\n",
    "plt.yscale(\"log\")\n",
    "plt.show()\n",
    "plt.clf()\n",
    "plt.close()"
   ]
  },
  {
   "cell_type": "code",
   "execution_count": null,
   "metadata": {
    "collapsed": true
   },
   "outputs": [],
   "source": [
    "from plotting import plot_hrd\n",
    "data = x[photo_cut & astro_cut]\n",
    "plot_hrd(x,\"all data\",np.divide(1000,x.parallax),\"distance [pc]\")\n",
    "plot_hrd(data,\"good data\",np.divide(1000,data.parallax),\"distance [pc]\")"
   ]
  },
  {
   "cell_type": "markdown",
   "metadata": {},
   "source": [
    "Input:\n",
    "- HRD\n",
    "- Color magnitude diagram\n",
    "- Stellar parameters\n",
    "\n",
    "![HRD](http://sci.esa.int/science-e-media/img/26/ESA_Gaia_DR2_HRD_Gaia_625.jpg)"
   ]
  },
  {
   "cell_type": "code",
   "execution_count": null,
   "metadata": {
    "collapsed": true
   },
   "outputs": [],
   "source": [
    "data = x[~(photo_cut & astro_cut)]\n",
    "plot_hrd(data,\"cut out stars\",np.divide(1000,data.parallax),\"distance [pc]\")"
   ]
  },
  {
   "cell_type": "code",
   "execution_count": null,
   "metadata": {
    "collapsed": true,
    "scrolled": false
   },
   "outputs": [],
   "source": [
    "hrd_cut = (x.parallax_over_error>10) & (x.phot_bp_mean_flux_over_error > 10) & (x.phot_rp_mean_flux_over_error > 10)\n",
    "data = x[photo_cut & astro_cut & hrd_cut]\n",
    "plot_hrd(data,\"high SNR data\",np.divide(1000,data.parallax),\"distance [pc]\")\n",
    "plot_hrd(y,\"GDR2mock\",y.age,\"age [Gyr]\")\n",
    "plot_hrd(y,\"GDR2mock\",y.feh,\"metallicity [Fe/H]\")"
   ]
  },
  {
   "cell_type": "code",
   "execution_count": null,
   "metadata": {
    "collapsed": true,
    "scrolled": false
   },
   "outputs": [],
   "source": [
    "data = x[photo_cut & astro_cut & hrd_cut]\n",
    "plot_mollweide(data.ra,data.dec,np.divide(1,data.parallax)*1000,'dist [pc]',r'GDR2 $\\varpi>20$, both cuts')\n",
    "file = '../data/day_1/topcat_hrd/cleaned_data.fits'\n",
    "import os\n",
    "try:\n",
    "    os.remove(file)\n",
    "except OSError:\n",
    "    pass\n",
    "fits.writeto(file,data)\n"
   ]
  },
  {
   "cell_type": "markdown",
   "metadata": {},
   "source": [
    "Data Exploration: Load that dataset in topcat and try to isolate the cluster"
   ]
  },
  {
   "cell_type": "markdown",
   "metadata": {
    "collapsed": true
   },
   "source": [
    "Plot and cut in: \n",
    "- Position on the sky (glon vs glat or ra vs dec)\n",
    "- Distance (1/parallax * 1000)\n",
    "- Proper motion (pmra vs pmdec)\n",
    "\n",
    "Just inspect\n",
    "- HRD (BP-RP vs G + 5 * log10(parallax/100))\n",
    "- Teff\n",
    "- Radial velocity\n",
    "\n",
    "A historical note on the CMD? CMDs of globular cluster. Stars of same distance and same age..."
   ]
  },
  {
   "cell_type": "code",
   "execution_count": null,
   "metadata": {
    "collapsed": true
   },
   "outputs": [],
   "source": [
    "# We load the isolated cluster\n",
    "h = fits.getdata(\"../data/day_1/topcat_hrd/Hyades_only.fits\")\n",
    "h = h.view(np.recarray)\n",
    "\n",
    "color_h = h.phot_bp_mean_mag - h.phot_rp_mean_mag\n",
    "abs_mag_h = h.phot_g_mean_mag + 5 * np.log10(np.divide(h.parallax,100))\n",
    "plt.plot(color_h,abs_mag_h,',')\n",
    "plt.gca().invert_yaxis()\n",
    "plt.ylabel(\"G + 5 log10(parallax/100)\")\n",
    "plt.xlabel(\"BP-RP\")\n",
    "plt.title(\"CMD Hyades\")"
   ]
  },
  {
   "cell_type": "code",
   "execution_count": null,
   "metadata": {
    "collapsed": true
   },
   "outputs": [],
   "source": [
    "# We load the PARSEC Isochrones (stellar evolutionary tracks)\n",
    "p = np.load('../data/day_1/parsec_isochrones/no_ext_grid.npy')\n",
    "p = p.view(np.recarray)\n",
    "print(len(p),p.dtype.names)"
   ]
  },
  {
   "cell_type": "code",
   "execution_count": null,
   "metadata": {
    "collapsed": true
   },
   "outputs": [],
   "source": [
    "color = p.gaia_bp - p.gaia_rp\n",
    "abs_mag = p.gaia_g\n",
    "plt.plot(color,abs_mag,',',label = \"PARSEC\")\n",
    "plt.plot(color_h,abs_mag_h,',',label = \"Hyades\")\n",
    "plt.gca().invert_yaxis()\n",
    "plt.ylabel(\"G + 5 log10(parallax/100)\")\n",
    "plt.xlabel(\"BP-RP\")\n",
    "plt.title(\"CMD\")\n",
    "plt.legend()"
   ]
  },
  {
   "cell_type": "code",
   "execution_count": null,
   "metadata": {
    "collapsed": true
   },
   "outputs": [],
   "source": [
    "# Slicing the model in FEH space\n",
    "\n",
    "feh_values = np.unique(p.feh)\n",
    "for feh in feh_values:\n",
    "    cut = np.where(p.feh == feh)\n",
    "    plt.plot(color[cut],abs_mag[cut],',',label = \"PARSEC Feh = %.2f\" %(feh))\n",
    "    color_h = h.phot_bp_mean_mag - h.phot_rp_mean_mag\n",
    "    abs_mag_h = h.phot_g_mean_mag + 5 * np.log10(np.divide(h.parallax,100))\n",
    "    plt.plot(color_h,abs_mag_h,',',label = \"Hyades\")\n",
    "    plt.gca().invert_yaxis()\n",
    "    plt.ylabel(\"G + 5 log10(parallax/100)\")\n",
    "    plt.xlabel(\"BP-RP\")\n",
    "    plt.title(\"CMD\")\n",
    "    plt.legend()\n",
    "    plt.show()\n",
    "    plt.clf()\n",
    "    plt.close()"
   ]
  },
  {
   "cell_type": "markdown",
   "metadata": {},
   "source": [
    "The metallicity of the Hyades is supersolar, approximately 0.25 dex"
   ]
  },
  {
   "cell_type": "code",
   "execution_count": null,
   "metadata": {
    "collapsed": true
   },
   "outputs": [],
   "source": [
    "# Slicing the model in age for a specific metallicity\n",
    "age_values = np.unique(p.age)\n",
    "for i,age in enumerate(age_values):\n",
    "    print(i)\n",
    "    cut = np.where(np.logical_and(p.feh == 0.25,p.age == age))\n",
    "    #im = plt.scatter(color[cut],abs_mag[cut],s=5,c=p.age[cut], norm = LogNorm(),label = \"PARSEC Feh = %.2f\" %(feh))\n",
    "    plt.plot(color[cut],abs_mag[cut],',',label = \"PARSEC Feh = 0.25 & Age = %.3f Myr\" %(age*1000))\n",
    "    color_h = h.phot_bp_mean_mag - h.phot_rp_mean_mag\n",
    "    abs_mag_h = h.phot_g_mean_mag + 5 * np.log10(np.divide(h.parallax,100))\n",
    "    plt.plot(color_h,abs_mag_h,',',label = \"Hyades\")\n",
    "    plt.gca().invert_yaxis()\n",
    "    #plt.colorbar(im, label = \"age\")\n",
    "    plt.ylabel(\"G + 5 log10(parallax/100)\")\n",
    "    plt.xlabel(\"BP-RP\")\n",
    "    plt.title(\"CMD\")\n",
    "    plt.legend()\n",
    "    plt.show()\n",
    "    plt.clf()\n",
    "    plt.close()"
   ]
  },
  {
   "cell_type": "markdown",
   "metadata": {},
   "source": [
    "The Age of the Hyades is between 500 and 700 Myr."
   ]
  },
  {
   "cell_type": "code",
   "execution_count": null,
   "metadata": {
    "collapsed": true
   },
   "outputs": [],
   "source": [
    "# Plotting a good model representation and look at the mass\n",
    "\n",
    "cut = np.where(np.logical_and(p.feh == 0.25,p.age == age_values[43]))\n",
    "im = plt.scatter(color[cut],abs_mag[cut],s=5,c=p.mass[cut], label = \"PARSEC Hyades Isochrone\" )\n",
    "color_h = h.phot_bp_mean_mag - h.phot_rp_mean_mag\n",
    "abs_mag_h = h.phot_g_mean_mag + 5 * np.log10(np.divide(h.parallax,100))\n",
    "plt.plot(color_h,abs_mag_h,',',label = \"Hyades\")\n",
    "plt.gca().invert_yaxis()\n",
    "plt.colorbar(im, label = \"mass\")\n",
    "plt.ylabel(\"G + 5 log10(parallax/100)\")\n",
    "plt.xlabel(\"BP-RP\")\n",
    "plt.title(\"CMD Mass sequence of an Isochrone\")\n",
    "plt.legend()\n",
    "plt.show()\n",
    "plt.clf()\n",
    "plt.close()"
   ]
  },
  {
   "cell_type": "markdown",
   "metadata": {},
   "source": [
    "What have we seen: CMD powerful tool to constrain teff, age, mass\n",
    "On Thursday we will learn how to infer those quantities in a Bayesian framework from field stars.\n",
    "\n",
    "Tomorrow Maria will talk about time series analysis.\n",
    "\n",
    "We will meet again on Wednesday and then we will look at close stellar encounters."
   ]
  },
  {
   "cell_type": "code",
   "execution_count": null,
   "metadata": {
    "collapsed": true
   },
   "outputs": [],
   "source": []
  }
 ],
 "metadata": {
  "kernelspec": {
   "display_name": "Python 3",
   "language": "python",
   "name": "python3"
  },
  "language_info": {
   "codemirror_mode": {
    "name": "ipython",
    "version": 3
   },
   "file_extension": ".py",
   "mimetype": "text/x-python",
   "name": "python",
   "nbconvert_exporter": "python",
   "pygments_lexer": "ipython3",
   "version": "3.6.3"
  }
 },
 "nbformat": 4,
 "nbformat_minor": 2
}
